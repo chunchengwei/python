{
 "cells": [
  {
   "cell_type": "code",
   "execution_count": 1,
   "metadata": {},
   "outputs": [],
   "source": [
    "import pickle\n",
    "import json"
   ]
  },
  {
   "cell_type": "markdown",
   "metadata": {},
   "source": [
    "# 测试序列化"
   ]
  },
  {
   "cell_type": "code",
   "execution_count": 2,
   "metadata": {},
   "outputs": [
    {
     "name": "stdout",
     "output_type": "stream",
     "text": [
      "b'\\x80\\x03}q\\x00(K\\x01]q\\x01(K\\x01K\\x02K\\x03eK\\x02]q\\x02(K\\x01K\\x02eX\\x01\\x00\\x00\\x00cq\\x03X\\x04\\x00\\x00\\x00goodq\\x04u.'\n",
      "{1: [1, 2, 3], 2: [1, 2], 'c': 'good'}\n",
      "{1: [1, 2, 3], 2: [1, 2], 'c': 'good'}\n"
     ]
    }
   ],
   "source": [
    "#dumps\n",
    "li = {1:[1,2,3], 2: [1,2], 'c':'good'}\n",
    "r = pickle.dumps(li)\n",
    "print(r)\n",
    "\n",
    "#loads\n",
    "result = pickle.loads(r)\n",
    "print(result)\n",
    "\n",
    "# dump\n",
    "with open('test.pickle', 'wb') as f:\n",
    "    pickle.dump(li, f)\n",
    "\n",
    "# load\n",
    "with open('test.pickle', 'rb') as f:\n",
    "    c = pickle.load(f)\n",
    "    print(c)"
   ]
  },
  {
   "cell_type": "markdown",
   "metadata": {},
   "source": [
    "# 测试json"
   ]
  },
  {
   "cell_type": "code",
   "execution_count": 3,
   "metadata": {},
   "outputs": [
    {
     "data": {
      "text/plain": [
       "{'北京': [446, 208.7, 110000],\n",
       " '天津': [454.2, 219.8, 120000],\n",
       " '上海': [498.6, 319.7, 310000]}"
      ]
     },
     "execution_count": 3,
     "metadata": {},
     "output_type": "execute_result"
    }
   ],
   "source": [
    "dic = {\"北京\": [446, 208.7, 110000], \"天津\": [454.2, 219.8, 120000], \"上海\": [498.6, 319.7, 310000]}\n",
    "dic"
   ]
  },
  {
   "cell_type": "code",
   "execution_count": 4,
   "metadata": {},
   "outputs": [
    {
     "name": "stdout",
     "output_type": "stream",
     "text": [
      "{\n",
      "    \"北京\": [\n",
      "        446,\n",
      "        208.7,\n",
      "        110000\n",
      "    ],\n",
      "    \"天津\": [\n",
      "        454.2,\n",
      "        219.8,\n",
      "        120000\n",
      "    ],\n",
      "    \"上海\": [\n",
      "        498.6,\n",
      "        319.7,\n",
      "        310000\n",
      "    ]\n",
      "}\n"
     ]
    }
   ],
   "source": [
    "s = json.dumps(dic, ensure_ascii=False, indent=4)\n",
    "print (s)"
   ]
  },
  {
   "cell_type": "code",
   "execution_count": 5,
   "metadata": {},
   "outputs": [
    {
     "data": {
      "text/plain": [
       "{'北京': [446, 208.7, 110000],\n",
       " '天津': [454.2, 219.8, 120000],\n",
       " '上海': [498.6, 319.7, 310000]}"
      ]
     },
     "execution_count": 5,
     "metadata": {},
     "output_type": "execute_result"
    }
   ],
   "source": [
    "json.loads(s)"
   ]
  },
  {
   "cell_type": "code",
   "execution_count": 6,
   "metadata": {},
   "outputs": [],
   "source": [
    "with open('test.json', 'w') as f:\n",
    "    json.dump(dic, f, ensure_ascii=False, indent=4)"
   ]
  },
  {
   "cell_type": "code",
   "execution_count": 7,
   "metadata": {},
   "outputs": [
    {
     "name": "stdout",
     "output_type": "stream",
     "text": [
      "{'北京': [446, 208.7, 110000], '天津': [454.2, 219.8, 120000], '上海': [498.6, 319.7, 310000]}\n"
     ]
    }
   ],
   "source": [
    "with open('test.json', 'r') as f:\n",
    "    c = json.load(f)\n",
    "    print(c)"
   ]
  },
  {
   "cell_type": "code",
   "execution_count": 8,
   "metadata": {},
   "outputs": [
    {
     "data": {
      "text/plain": [
       "{'北京': [446, 208.7, 110000],\n",
       " '天津': [454.2, 219.8, 120000],\n",
       " '上海': [498.6, 319.7, 310000]}"
      ]
     },
     "execution_count": 8,
     "metadata": {},
     "output_type": "execute_result"
    }
   ],
   "source": [
    "c"
   ]
  }
 ],
 "metadata": {
  "kernelspec": {
   "display_name": "Python 3",
   "language": "python",
   "name": "python3"
  },
  "language_info": {
   "codemirror_mode": {
    "name": "ipython",
    "version": 3
   },
   "file_extension": ".py",
   "mimetype": "text/x-python",
   "name": "python",
   "nbconvert_exporter": "python",
   "pygments_lexer": "ipython3",
   "version": "3.7.3"
  }
 },
 "nbformat": 4,
 "nbformat_minor": 2
}
